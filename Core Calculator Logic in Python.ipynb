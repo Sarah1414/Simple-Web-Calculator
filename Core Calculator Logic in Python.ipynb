{
 "cells": [
  {
   "cell_type": "code",
   "execution_count": 1,
   "id": "5488a078",
   "metadata": {},
   "outputs": [
    {
     "name": "stdout",
     "output_type": "stream",
     "text": [
      "Select Operation:\n",
      "1 - Add\n",
      "2 - Subtract\n",
      "3 - Multiply\n",
      "4 - Divide\n",
      "Result: 23.0 × 34.0 = 782.0\n"
     ]
    }
   ],
   "source": [
    "def calculate():\n",
    "    print(\"Select Operation:\")\n",
    "    print(\"1 - Add\")\n",
    "    print(\"2 - Subtract\")\n",
    "    print(\"3 - Multiply\")\n",
    "    print(\"4 - Divide\")\n",
    "\n",
    "    choice = input(\"Enter choice (1/2/3/4): \")\n",
    "\n",
    "    try:\n",
    "        num1 = float(input(\"Enter first number: \"))\n",
    "        num2 = float(input(\"Enter second number: \"))\n",
    "\n",
    "        if choice == '1':\n",
    "            result = num1 + num2\n",
    "            print(f\"Result: {num1} + {num2} = {result}\")\n",
    "        elif choice == '2':\n",
    "            result = num1 - num2\n",
    "            print(f\"Result: {num1} - {num2} = {result}\")\n",
    "        elif choice == '3':\n",
    "            result = num1 * num2\n",
    "            print(f\"Result: {num1} × {num2} = {result}\")\n",
    "        elif choice == '4':\n",
    "            if num2 != 0:\n",
    "                result = num1 / num2\n",
    "                print(f\"Result: {num1} ÷ {num2} = {result}\")\n",
    "            else:\n",
    "                print(\"Error: Cannot divide by zero\")\n",
    "        else:\n",
    "            print(\"Invalid choice\")\n",
    "\n",
    "    except ValueError:\n",
    "        print(\"Invalid input. Please enter numbers only.\")\n",
    "\n",
    "# Run the calculator\n",
    "calculate()\n",
    "\n",
    "    "
   ]
  },
  {
   "cell_type": "code",
   "execution_count": null,
   "id": "5ef4d38d",
   "metadata": {},
   "outputs": [
    {
     "ename": "SyntaxError",
     "evalue": "incomplete input (1986744338.py, line 4)",
     "output_type": "error",
     "traceback": [
      "\u001b[1;36m  Cell \u001b[1;32mIn[3], line 4\u001b[1;36m\u001b[0m\n\u001b[1;33m    \u001b[0m\n\u001b[1;37m    ^\u001b[0m\n\u001b[1;31mSyntaxError\u001b[0m\u001b[1;31m:\u001b[0m incomplete input\n"
     ]
    }
   ],
   "source": []
  }
 ],
 "metadata": {
  "kernelspec": {
   "display_name": "Python 3",
   "language": "python",
   "name": "python3"
  },
  "language_info": {
   "codemirror_mode": {
    "name": "ipython",
    "version": 3
   },
   "file_extension": ".py",
   "mimetype": "text/x-python",
   "name": "python",
   "nbconvert_exporter": "python",
   "pygments_lexer": "ipython3",
   "version": "3.11.4"
  }
 },
 "nbformat": 4,
 "nbformat_minor": 5
}
